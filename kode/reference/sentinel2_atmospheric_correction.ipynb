{
 "cells": [
  {
   "cell_type": "markdown",
   "metadata": {},
   "source": [
    "# Sentinel 2 Atmospheric Correction in Google Earth Engine"
   ]
  },
  {
   "cell_type": "markdown",
   "metadata": {},
   "source": [
    "### Import modules \n",
    "and initialize Earth Engine"
   ]
  },
  {
   "cell_type": "code",
   "execution_count": 2,
   "metadata": {},
   "outputs": [],
   "source": [
    "import ee\n",
    "from Py6S import *\n",
    "import datetime\n",
    "import math\n",
    "import os\n",
    "import sys\n",
    "sys.path.append(os.path.join(os.path.dirname(os.getcwd()),'bin'))\n",
    "from atmospheric import Atmospheric\n",
    "\n",
    "ee.Initialize(project='ee-atlk')"
   ]
  },
  {
   "cell_type": "markdown",
   "metadata": {},
   "source": [
    "### time and place\n",
    "Define the time and place that you are looking for."
   ]
  },
  {
   "cell_type": "code",
   "execution_count": 3,
   "metadata": {},
   "outputs": [],
   "source": [
    "date = ee.Date('2017-01-01')\n",
    "geom = ee.Geometry.Point(-157.816222, 21.297481)\n",
    "geom = ee.Geometry.Point(12.670733, 41.826685)# ESRIN (ESA Earth Observation Centre)"
   ]
  },
  {
   "cell_type": "markdown",
   "metadata": {},
   "source": [
    "### an image\n",
    "The following code will grab the first scene that occurs on or after date."
   ]
  },
  {
   "cell_type": "code",
   "execution_count": 22,
   "metadata": {},
   "outputs": [],
   "source": [
    "# The first Sentinel 2 image\n",
    "S2 = ee.Image(\n",
    "  ee.ImageCollection('COPERNICUS/S2_HARMONIZED')\n",
    "    .filterBounds(geom)\n",
    "    .filterDate(date,date.advance(3,'month'))\n",
    "    .sort('system:time_start')\n",
    "    .first()\n",
    "  )\n",
    "\n",
    "# top of atmosphere reflectance\n",
    "toa = S2.divide(10000)"
   ]
  },
  {
   "cell_type": "markdown",
   "metadata": {},
   "source": [
    "### metadata"
   ]
  },
  {
   "cell_type": "code",
   "execution_count": 5,
   "metadata": {},
   "outputs": [],
   "source": [
    "info = S2.getInfo()['properties']\n",
    "scene_date = datetime.datetime.utcfromtimestamp(info['system:time_start']/1000)# i.e. Python uses seconds, EE uses milliseconds\n",
    "solar_z = info['MEAN_SOLAR_ZENITH_ANGLE']"
   ]
  },
  {
   "cell_type": "code",
   "execution_count": 24,
   "metadata": {},
   "outputs": [
    {
     "data": {
      "text/plain": [
       "{'type': 'Image',\n",
       " 'bands': [{'id': 'B1',\n",
       "   'data_type': {'type': 'PixelType',\n",
       "    'precision': 'int',\n",
       "    'min': 0,\n",
       "    'max': 65535},\n",
       "   'dimensions': [1830, 1830],\n",
       "   'crs': 'EPSG:32632',\n",
       "   'crs_transform': [60, 0, 699960, 0, -60, 4700040]},\n",
       "  {'id': 'B2',\n",
       "   'data_type': {'type': 'PixelType',\n",
       "    'precision': 'int',\n",
       "    'min': 0,\n",
       "    'max': 65535},\n",
       "   'dimensions': [10980, 10980],\n",
       "   'crs': 'EPSG:32632',\n",
       "   'crs_transform': [10, 0, 699960, 0, -10, 4700040]},\n",
       "  {'id': 'B3',\n",
       "   'data_type': {'type': 'PixelType',\n",
       "    'precision': 'int',\n",
       "    'min': 0,\n",
       "    'max': 65535},\n",
       "   'dimensions': [10980, 10980],\n",
       "   'crs': 'EPSG:32632',\n",
       "   'crs_transform': [10, 0, 699960, 0, -10, 4700040]},\n",
       "  {'id': 'B4',\n",
       "   'data_type': {'type': 'PixelType',\n",
       "    'precision': 'int',\n",
       "    'min': 0,\n",
       "    'max': 65535},\n",
       "   'dimensions': [10980, 10980],\n",
       "   'crs': 'EPSG:32632',\n",
       "   'crs_transform': [10, 0, 699960, 0, -10, 4700040]},\n",
       "  {'id': 'B5',\n",
       "   'data_type': {'type': 'PixelType',\n",
       "    'precision': 'int',\n",
       "    'min': 0,\n",
       "    'max': 65535},\n",
       "   'dimensions': [5490, 5490],\n",
       "   'crs': 'EPSG:32632',\n",
       "   'crs_transform': [20, 0, 699960, 0, -20, 4700040]},\n",
       "  {'id': 'B6',\n",
       "   'data_type': {'type': 'PixelType',\n",
       "    'precision': 'int',\n",
       "    'min': 0,\n",
       "    'max': 65535},\n",
       "   'dimensions': [5490, 5490],\n",
       "   'crs': 'EPSG:32632',\n",
       "   'crs_transform': [20, 0, 699960, 0, -20, 4700040]},\n",
       "  {'id': 'B7',\n",
       "   'data_type': {'type': 'PixelType',\n",
       "    'precision': 'int',\n",
       "    'min': 0,\n",
       "    'max': 65535},\n",
       "   'dimensions': [5490, 5490],\n",
       "   'crs': 'EPSG:32632',\n",
       "   'crs_transform': [20, 0, 699960, 0, -20, 4700040]},\n",
       "  {'id': 'B8',\n",
       "   'data_type': {'type': 'PixelType',\n",
       "    'precision': 'int',\n",
       "    'min': 0,\n",
       "    'max': 65535},\n",
       "   'dimensions': [10980, 10980],\n",
       "   'crs': 'EPSG:32632',\n",
       "   'crs_transform': [10, 0, 699960, 0, -10, 4700040]},\n",
       "  {'id': 'B8A',\n",
       "   'data_type': {'type': 'PixelType',\n",
       "    'precision': 'int',\n",
       "    'min': 0,\n",
       "    'max': 65535},\n",
       "   'dimensions': [5490, 5490],\n",
       "   'crs': 'EPSG:32632',\n",
       "   'crs_transform': [20, 0, 699960, 0, -20, 4700040]},\n",
       "  {'id': 'B9',\n",
       "   'data_type': {'type': 'PixelType',\n",
       "    'precision': 'int',\n",
       "    'min': 0,\n",
       "    'max': 65535},\n",
       "   'dimensions': [1830, 1830],\n",
       "   'crs': 'EPSG:32632',\n",
       "   'crs_transform': [60, 0, 699960, 0, -60, 4700040]},\n",
       "  {'id': 'B10',\n",
       "   'data_type': {'type': 'PixelType',\n",
       "    'precision': 'int',\n",
       "    'min': 0,\n",
       "    'max': 65535},\n",
       "   'dimensions': [1830, 1830],\n",
       "   'crs': 'EPSG:32632',\n",
       "   'crs_transform': [60, 0, 699960, 0, -60, 4700040]},\n",
       "  {'id': 'B11',\n",
       "   'data_type': {'type': 'PixelType',\n",
       "    'precision': 'int',\n",
       "    'min': 0,\n",
       "    'max': 65535},\n",
       "   'dimensions': [5490, 5490],\n",
       "   'crs': 'EPSG:32632',\n",
       "   'crs_transform': [20, 0, 699960, 0, -20, 4700040]},\n",
       "  {'id': 'B12',\n",
       "   'data_type': {'type': 'PixelType',\n",
       "    'precision': 'int',\n",
       "    'min': 0,\n",
       "    'max': 65535},\n",
       "   'dimensions': [5490, 5490],\n",
       "   'crs': 'EPSG:32632',\n",
       "   'crs_transform': [20, 0, 699960, 0, -20, 4700040]},\n",
       "  {'id': 'QA10',\n",
       "   'data_type': {'type': 'PixelType',\n",
       "    'precision': 'int',\n",
       "    'min': 0,\n",
       "    'max': 65535},\n",
       "   'dimensions': [10980, 10980],\n",
       "   'crs': 'EPSG:32632',\n",
       "   'crs_transform': [10, 0, 699960, 0, -10, 4700040]},\n",
       "  {'id': 'QA20',\n",
       "   'data_type': {'type': 'PixelType',\n",
       "    'precision': 'int',\n",
       "    'min': 0,\n",
       "    'max': 4294967295},\n",
       "   'dimensions': [5490, 5490],\n",
       "   'crs': 'EPSG:32632',\n",
       "   'crs_transform': [20, 0, 699960, 0, -20, 4700040]},\n",
       "  {'id': 'QA60',\n",
       "   'data_type': {'type': 'PixelType',\n",
       "    'precision': 'int',\n",
       "    'min': 0,\n",
       "    'max': 65535},\n",
       "   'dimensions': [1830, 1830],\n",
       "   'crs': 'EPSG:32632',\n",
       "   'crs_transform': [60, 0, 699960, 0, -60, 4700040]},\n",
       "  {'id': 'MSK_CLASSI_OPAQUE',\n",
       "   'data_type': {'type': 'PixelType',\n",
       "    'precision': 'int',\n",
       "    'min': 0,\n",
       "    'max': 255},\n",
       "   'crs': 'EPSG:4326',\n",
       "   'crs_transform': [1, 0, 0, 0, 1, 0]},\n",
       "  {'id': 'MSK_CLASSI_CIRRUS',\n",
       "   'data_type': {'type': 'PixelType',\n",
       "    'precision': 'int',\n",
       "    'min': 0,\n",
       "    'max': 255},\n",
       "   'crs': 'EPSG:4326',\n",
       "   'crs_transform': [1, 0, 0, 0, 1, 0]},\n",
       "  {'id': 'MSK_CLASSI_SNOW_ICE',\n",
       "   'data_type': {'type': 'PixelType',\n",
       "    'precision': 'int',\n",
       "    'min': 0,\n",
       "    'max': 255},\n",
       "   'crs': 'EPSG:4326',\n",
       "   'crs_transform': [1, 0, 0, 0, 1, 0]}],\n",
       " 'version': 1733400419633356,\n",
       " 'id': 'COPERNICUS/S2_HARMONIZED/20170101T100412_20170101T100407_T32TQM',\n",
       " 'properties': {'DATATAKE_IDENTIFIER': 'GS2A_20170101T100412_007984_N02.04',\n",
       "  'SPACECRAFT_NAME': 'Sentinel-2A',\n",
       "  'FORMAT_CORRECTNESS_FLAG': 'PASSED',\n",
       "  'IERS_BULLETIN_FILENAME': 'S2__OPER_AUX_UT1UTC_PDMC_20161229T000000_V20161230T000000_20171229T000000',\n",
       "  'MEAN_INCIDENCE_AZIMUTH_ANGLE_B8A': 104.163863624938,\n",
       "  'MEAN_SOLAR_AZIMUTH_ANGLE': 163.390620562848,\n",
       "  'system:footprint': {'type': 'LinearRing',\n",
       "   'coordinates': [[11.4305932797911, 42.42693675629298],\n",
       "    [11.430588861231122, 42.42692209647226],\n",
       "    [11.411734981674966, 41.93299631138351],\n",
       "    [11.39334736629802, 41.43902872595767],\n",
       "    [11.393394653411233, 41.438986291397505],\n",
       "    [11.393434405781855, 41.438939708234],\n",
       "    [11.393453978850287, 41.43893646927237],\n",
       "    [12.705328573482387, 41.40413235000518],\n",
       "    [12.705385904770354, 41.404167087103],\n",
       "    [12.705448583504145, 41.40419618586291],\n",
       "    [12.705453229621417, 41.404210862056495],\n",
       "    [12.719575735360277, 41.650906916085454],\n",
       "    [12.733875046254118, 41.89758086164511],\n",
       "    [12.748354205260403, 42.14424013652544],\n",
       "    [12.763015731172214, 42.39088469146929],\n",
       "    [12.76296872100827, 42.39092766251667],\n",
       "    [12.762929428945325, 42.3909747116596],\n",
       "    [12.762909519802353, 42.39097821279129],\n",
       "    [11.430713967200191, 42.427001979029036],\n",
       "    [11.430656352589919, 42.42696661247439],\n",
       "    [11.4305932797911, 42.42693675629298]]},\n",
       "  'SOLAR_IRRADIANCE_B12': 85.25,\n",
       "  'SOLAR_IRRADIANCE_B10': 367.15,\n",
       "  'SENSOR_QUALITY': 'PASSED',\n",
       "  'SOLAR_IRRADIANCE_B11': 245.59,\n",
       "  'GENERATION_TIME': 1483265047000,\n",
       "  'SOLAR_IRRADIANCE_B8A': 955.19,\n",
       "  'FORMAT_CORRECTNESS': 'PASSED',\n",
       "  'PRODUCT_URI': 'S2A_MSIL1C_20170101T100412_N0204_R122_T32TQM_20170101T100407.SAFE',\n",
       "  'SENSOR_QUALITY_FLAG': 'PASSED',\n",
       "  'CLOUD_COVERAGE_ASSESSMENT': 0.0335,\n",
       "  'system:time_end': 1483265047462,\n",
       "  'system:time_start': 1483265047462,\n",
       "  'DATASTRIP_ID': 'S2A_OPER_MSI_L1C_DS_MTI__20170103T030708_S20170101T100407_N02.04',\n",
       "  'PROCESSING_BASELINE': '02.04',\n",
       "  'SENSING_ORBIT_NUMBER': 122,\n",
       "  'GEOMETRIC_QUALITY_FLAG': 'PASSED',\n",
       "  'SENSING_ORBIT_DIRECTION': 'DESCENDING',\n",
       "  'GENERAL_QUALITY': 'PASSED',\n",
       "  'GRANULE_ID': 'L1C_T32TQM_A007984_20170101T100407',\n",
       "  'REFLECTANCE_CONVERSION_CORRECTION': 1.03417383382935,\n",
       "  'MEAN_INCIDENCE_AZIMUTH_ANGLE_B8': 104.334870895909,\n",
       "  'DATATAKE_TYPE': 'INS-NOBS',\n",
       "  'MEAN_INCIDENCE_AZIMUTH_ANGLE_B9': 104.201086893386,\n",
       "  'MEAN_INCIDENCE_AZIMUTH_ANGLE_B6': 104.192464583291,\n",
       "  'MEAN_INCIDENCE_AZIMUTH_ANGLE_B7': 104.174547247916,\n",
       "  'RADIOMETRIC_QUALITY_FLAG': 'PASSED',\n",
       "  'MEAN_INCIDENCE_AZIMUTH_ANGLE_B4': 104.2046298172,\n",
       "  'MEAN_INCIDENCE_ZENITH_ANGLE_B1': 6.21929081577289,\n",
       "  'MEAN_INCIDENCE_AZIMUTH_ANGLE_B5': 104.213036422444,\n",
       "  'RADIOMETRIC_QUALITY': 'PASSED',\n",
       "  'MEAN_INCIDENCE_AZIMUTH_ANGLE_B2': 104.40593923982,\n",
       "  'MEAN_INCIDENCE_AZIMUTH_ANGLE_B3': 104.279087218731,\n",
       "  'MEAN_INCIDENCE_ZENITH_ANGLE_B5': 6.03672198248088,\n",
       "  'MEAN_INCIDENCE_AZIMUTH_ANGLE_B1': 104.208242869388,\n",
       "  'MEAN_INCIDENCE_ZENITH_ANGLE_B4': 6.00483929412426,\n",
       "  'MEAN_INCIDENCE_ZENITH_ANGLE_B3': 5.95020817531337,\n",
       "  'MEAN_INCIDENCE_ZENITH_ANGLE_B2': 5.9064529855789,\n",
       "  'MEAN_INCIDENCE_ZENITH_ANGLE_B9': 6.27220155232121,\n",
       "  'MEAN_INCIDENCE_ZENITH_ANGLE_B8': 5.92619731280573,\n",
       "  'MEAN_INCIDENCE_ZENITH_ANGLE_B7': 6.12462207668125,\n",
       "  'MEAN_INCIDENCE_ZENITH_ANGLE_B6': 6.07548678533644,\n",
       "  'MEAN_SOLAR_ZENITH_ANGLE': 66.6678605580838,\n",
       "  'MEAN_INCIDENCE_ZENITH_ANGLE_B8A': 6.17002347153049,\n",
       "  'GRI_FILENAME': 'S2A_OPER_AUX_GRI065_PDMC_20130621T120000_S20130101T000000',\n",
       "  'MGRS_TILE': '32TQM',\n",
       "  'PRODUCTION_DEM_TYPE': 'S2__OPER_DEM_GLOBEF_PDMC_19800101T000000_S19800101T000000',\n",
       "  'CLOUDY_PIXEL_PERCENTAGE': 0.0335,\n",
       "  'GENERAL_QUALITY_FLAG': 'PASSED',\n",
       "  'PRODUCT_ID': 'S2A_MSIL1C_20170101T100412_N0204_R122_T32TQM_20170101T100407',\n",
       "  'ECMWF_DATA_REF': 'S2__OPER_AUX_ECMWFD_PDMC_20170101T000000_V20170101T090000_20170101T210000',\n",
       "  'MEAN_INCIDENCE_ZENITH_ANGLE_B10': 5.98347287925796,\n",
       "  'SOLAR_IRRADIANCE_B9': 813.04,\n",
       "  'DEGRADED_MSI_DATA_PERCENTAGE': 0,\n",
       "  'MEAN_INCIDENCE_ZENITH_ANGLE_B11': 6.05834891047906,\n",
       "  'MEAN_INCIDENCE_ZENITH_ANGLE_B12': 6.16357664828261,\n",
       "  'SOLAR_IRRADIANCE_B6': 1288.32,\n",
       "  'MEAN_INCIDENCE_AZIMUTH_ANGLE_B10': 104.324244010976,\n",
       "  'SOLAR_IRRADIANCE_B5': 1425.56,\n",
       "  'MEAN_INCIDENCE_AZIMUTH_ANGLE_B11': 104.297913741991,\n",
       "  'SOLAR_IRRADIANCE_B8': 1036.39,\n",
       "  'MEAN_INCIDENCE_AZIMUTH_ANGLE_B12': 104.305796886958,\n",
       "  'SOLAR_IRRADIANCE_B7': 1163.19,\n",
       "  'SOLAR_IRRADIANCE_B2': 1941.63,\n",
       "  'SOLAR_IRRADIANCE_B1': 1913.57,\n",
       "  'SOLAR_IRRADIANCE_B4': 1512.79,\n",
       "  'GEOMETRIC_QUALITY': 'PASSED',\n",
       "  'SOLAR_IRRADIANCE_B3': 1822.61,\n",
       "  'system:asset_size': 1052609409,\n",
       "  'system:index': '20170101T100412_20170101T100407_T32TQM'}}"
      ]
     },
     "execution_count": 24,
     "metadata": {},
     "output_type": "execute_result"
    }
   ],
   "source": [
    "info = S2.getInfo()\n",
    "info"
   ]
  },
  {
   "cell_type": "code",
   "execution_count": 19,
   "metadata": {},
   "outputs": [
    {
     "name": "stdout",
     "output_type": "stream",
     "text": [
      "<class 'ee.image.Image'>\n"
     ]
    }
   ],
   "source": [
    "print(type(S2))"
   ]
  },
  {
   "cell_type": "markdown",
   "metadata": {},
   "source": [
    "### atmospheric constituents"
   ]
  },
  {
   "cell_type": "code",
   "execution_count": 6,
   "metadata": {},
   "outputs": [
    {
     "name": "stderr",
     "output_type": "stream",
     "text": [
      "c:\\Users\\ASUS\\anaconda3\\envs\\myenv\\lib\\site-packages\\ee\\deprecation.py:207: DeprecationWarning: \n",
      "\n",
      "Attention required for MODIS/006/MOD08_M3! You are using a deprecated asset.\n",
      "To ensure continued functionality, please update it.\n",
      "Learn more: https://developers.google.com/earth-engine/datasets/catalog/MODIS_006_MOD08_M3\n",
      "\n",
      "  warnings.warn(warning, category=DeprecationWarning)\n"
     ]
    }
   ],
   "source": [
    "h2o = Atmospheric.water(geom,date).getInfo()\n",
    "o3 = Atmospheric.ozone(geom,date).getInfo()\n",
    "aot = Atmospheric.aerosol(geom,date).getInfo()"
   ]
  },
  {
   "cell_type": "markdown",
   "metadata": {},
   "source": [
    "### target altitude (km)"
   ]
  },
  {
   "cell_type": "code",
   "execution_count": 7,
   "metadata": {},
   "outputs": [],
   "source": [
    "SRTM = ee.Image('CGIAR/SRTM90_V4')# Shuttle Radar Topography mission covers *most* of the Earth\n",
    "alt = SRTM.reduceRegion(reducer = ee.Reducer.mean(),geometry = geom.centroid()).get('elevation').getInfo()\n",
    "km = alt/1000 # i.e. Py6S uses units of kilometers"
   ]
  },
  {
   "cell_type": "markdown",
   "metadata": {},
   "source": [
    "### 6S object\n",
    "\n",
    "The backbone of Py6S is the 6S (i.e. SixS) class. It allows you to define the various input parameters, to run the radiative transfer code and to access the outputs which are required to convert radiance to surface reflectance."
   ]
  },
  {
   "cell_type": "code",
   "execution_count": 8,
   "metadata": {},
   "outputs": [],
   "source": [
    "# Instantiate\n",
    "s = SixS()\n",
    "\n",
    "# Atmospheric constituents\n",
    "s.atmos_profile = AtmosProfile.UserWaterAndOzone(h2o,o3)\n",
    "s.aero_profile = AeroProfile.Continental\n",
    "s.aot550 = aot\n",
    "\n",
    "# Earth-Sun-satellite geometry\n",
    "s.geometry = Geometry.User()\n",
    "s.geometry.view_z = 0               # always NADIR (I think..)\n",
    "s.geometry.solar_z = solar_z        # solar zenith angle\n",
    "s.geometry.month = scene_date.month # month and day used for Earth-Sun distance\n",
    "s.geometry.day = scene_date.day     # month and day used for Earth-Sun distance\n",
    "s.altitudes.set_sensor_satellite_level()\n",
    "s.altitudes.set_target_custom_altitude(km)"
   ]
  },
  {
   "cell_type": "markdown",
   "metadata": {},
   "source": [
    "### Spectral Response functions"
   ]
  },
  {
   "cell_type": "markdown",
   "metadata": {},
   "source": [
    "Py6S uses the Wavelength class to handle the wavelength(s) associated with a given channel (a.k.a. waveband). This might be a single scalar value (e.g. a central wavelength) or, if known, possibly the spectral response function of the waveband. The Sentinel 2 spectral response functions are provided with Py6S (as well as those of a number of missions). For more details please see the [docs](http://py6s.readthedocs.io/en/latest/params.html#wavelengths) or the (comment-rich) [source code](https://github.com/robintw/Py6S/blob/master/Py6S/Params/wavelength.py)"
   ]
  },
  {
   "cell_type": "code",
   "execution_count": 9,
   "metadata": {},
   "outputs": [],
   "source": [
    "def spectralResponseFunction(bandname):\n",
    "    \"\"\"\n",
    "    Extract spectral response function for given band name\n",
    "    \"\"\"\n",
    "    bandSelect = {\n",
    "        'B1':PredefinedWavelengths.S2A_MSI_01,\n",
    "        'B2':PredefinedWavelengths.S2A_MSI_02,\n",
    "        'B3':PredefinedWavelengths.S2A_MSI_03,\n",
    "        'B4':PredefinedWavelengths.S2A_MSI_04,\n",
    "        'B5':PredefinedWavelengths.S2A_MSI_05,\n",
    "        'B6':PredefinedWavelengths.S2A_MSI_06,\n",
    "        'B7':PredefinedWavelengths.S2A_MSI_07,\n",
    "        'B8':PredefinedWavelengths.S2A_MSI_08,\n",
    "        'B8A':PredefinedWavelengths.S2A_MSI_8A,\n",
    "        'B9':PredefinedWavelengths.S2A_MSI_09,\n",
    "        'B10':PredefinedWavelengths.S2A_MSI_10,\n",
    "        'B11':PredefinedWavelengths.S2A_MSI_11,\n",
    "        'B12':PredefinedWavelengths.S2A_MSI_12,\n",
    "        }\n",
    "    return Wavelength(bandSelect[bandname])"
   ]
  },
  {
   "cell_type": "markdown",
   "metadata": {},
   "source": [
    "### TOA Reflectance to Radiance\n",
    "\n",
    "Sentinel 2 data is provided as top-of-atmosphere reflectance. Lets convert this to at-sensor radiance for the atmospheric correction.*\n",
    "\n",
    "\\*<sub>You *can* atmospherically corrected directly from TOA reflectance. However, I suggest radiance for a couple of reasons.\n",
    "  Firstly, it is more intuitive. Instead of *spherical albedo* (which I suspect is more of a mathematical convenience than a physical property) you can use solar irradiance, transmissivity, path radiance, etc. Secondly, Py6S seems to be more geared towards converting from radiance to SR</sup>\n",
    "\n",
    "\n",
    "\n"
   ]
  },
  {
   "cell_type": "code",
   "execution_count": 10,
   "metadata": {},
   "outputs": [],
   "source": [
    "def toa_to_rad(bandname):\n",
    "    \"\"\"\n",
    "    Converts top of atmosphere reflectance to at-sensor radiance\n",
    "    \"\"\"\n",
    "    \n",
    "    # solar exoatmospheric spectral irradiance\n",
    "    ESUN = info['SOLAR_IRRADIANCE_'+bandname]\n",
    "    solar_angle_correction = math.cos(math.radians(solar_z))\n",
    "    \n",
    "    # Earth-Sun distance (from day of year)\n",
    "    doy = scene_date.timetuple().tm_yday\n",
    "    d = 1 - 0.01672 * math.cos(0.9856 * (doy-4))# http://physics.stackexchange.com/questions/177949/earth-sun-distance-on-a-given-day-of-the-year\n",
    "   \n",
    "    # conversion factor\n",
    "    multiplier = ESUN*solar_angle_correction/(math.pi*d**2)\n",
    "\n",
    "    # at-sensor radiance\n",
    "    rad = toa.select(bandname).multiply(multiplier)\n",
    "    \n",
    "    return rad"
   ]
  },
  {
   "cell_type": "markdown",
   "metadata": {},
   "source": [
    "### Radiance to Surface Reflectance\n",
    "\n",
    "Reflected sunlight can be described as follows (wavelength dependence is implied):\n",
    "\n",
    "$ L = \\tau\\rho(E_{dir} + E_{dif})/\\pi + L_p$\n",
    "\n",
    "where L is at-sensor radiance, $\\tau$ is transmissivity, $\\rho$ is surface reflectance, $E_{dir}$ is direct solar irradiance, $E_{dif}$ is diffuse solar irradiance and $L_p$ is path radiance. There are five unknowns in this equation, 4 atmospheric terms ($\\tau$, $E_{dir}$, $E_{dif}$ and $L_p$) and surface reflectance. The 6S radiative transfer code is used to solve for the atmospheric terms, allowing us to solve for surface reflectance.\n",
    "\n",
    "$ \\rho = \\pi(L - L_p) / \\tau(E_{dir} + E_{dif}) $"
   ]
  },
  {
   "cell_type": "code",
   "execution_count": 11,
   "metadata": {},
   "outputs": [],
   "source": [
    "def surface_reflectance(bandname):\n",
    "    \"\"\"\n",
    "    Calculate surface reflectance from at-sensor radiance given waveband name\n",
    "    \"\"\"\n",
    "    \n",
    "    # run 6S for this waveband\n",
    "    s.wavelength = spectralResponseFunction(bandname)\n",
    "    s.run()\n",
    "    \n",
    "    # extract 6S outputs\n",
    "    Edir = s.outputs.direct_solar_irradiance             #direct solar irradiance\n",
    "    Edif = s.outputs.diffuse_solar_irradiance            #diffuse solar irradiance\n",
    "    Lp   = s.outputs.atmospheric_intrinsic_radiance      #path radiance\n",
    "    absorb  = s.outputs.trans['global_gas'].upward       #absorption transmissivity\n",
    "    scatter = s.outputs.trans['total_scattering'].upward #scattering transmissivity\n",
    "    tau2 = absorb*scatter                                #total transmissivity\n",
    "    \n",
    "    # radiance to surface reflectance\n",
    "    rad = toa_to_rad(bandname)\n",
    "    ref = rad.subtract(Lp).multiply(math.pi).divide(tau2*(Edir+Edif))\n",
    "    \n",
    "    return ref"
   ]
  },
  {
   "cell_type": "markdown",
   "metadata": {},
   "source": [
    "### Atmospheric Correction"
   ]
  },
  {
   "cell_type": "code",
   "execution_count": 12,
   "metadata": {},
   "outputs": [],
   "source": [
    "# surface reflectance rgb\n",
    "b = surface_reflectance('B2')\n",
    "g = surface_reflectance('B3')\n",
    "r = surface_reflectance('B4')\n",
    "ref = r.addBands(g).addBands(b)\n",
    "\n",
    "# # all wavebands\n",
    "# output = S2.select('QA60')\n",
    "# for band in ['B1','B2','B3','B4','B5','B6','B7','B8','B8A','B9','B10','B11','B12']:\n",
    "#     print(band)\n",
    "#     output = output.addBands(surface_reflectance(band))"
   ]
  },
  {
   "cell_type": "markdown",
   "metadata": {},
   "source": [
    "### Display results"
   ]
  },
  {
   "cell_type": "code",
   "execution_count": 13,
   "metadata": {},
   "outputs": [
    {
     "data": {
      "text/html": [
       "<img src=\"https://earthengine.googleapis.com/v1/projects/ee-atlk/thumbnails/f052dcee69b31b674b5adc7ff1cac9f9-4d953685e517f9f9e5870ea258d5c4a8:getPixels\"/>"
      ],
      "text/plain": [
       "<IPython.core.display.Image object>"
      ]
     },
     "metadata": {},
     "output_type": "display_data"
    },
    {
     "data": {
      "text/html": [
       "<img src=\"https://earthengine.googleapis.com/v1/projects/ee-atlk/thumbnails/7574b875ce16b92e0fbf6b8cd428a88e-4e4cfa0e303d2e95fc35332ac9525432:getPixels\"/>"
      ],
      "text/plain": [
       "<IPython.core.display.Image object>"
      ]
     },
     "metadata": {},
     "output_type": "display_data"
    }
   ],
   "source": [
    "from IPython.display import display, Image\n",
    "\n",
    "region = geom.buffer(5000).bounds().getInfo()['coordinates']\n",
    "channels = ['B4','B3','B2']\n",
    "\n",
    "original = Image(url=toa.select(channels).getThumbUrl({\n",
    "                'region':region,\n",
    "                'min':0,\n",
    "                'max':0.25\n",
    "                }))\n",
    "\n",
    "corrected = Image(url=ref.select(channels).getThumbUrl({\n",
    "                'region':region,\n",
    "                'min':0,\n",
    "                'max':0.25\n",
    "                }))\n",
    "\n",
    "display(original, corrected)"
   ]
  },
  {
   "cell_type": "markdown",
   "metadata": {},
   "source": [
    "### Export to Asset"
   ]
  },
  {
   "cell_type": "code",
   "execution_count": 14,
   "metadata": {},
   "outputs": [],
   "source": [
    "# # set some properties for export\n",
    "# dateString = scene_date.strftime(\"%Y-%m-%d\")\n",
    "# ref = ref.set({'satellite':'Sentinel 2',\n",
    "#               'fileID':info['system:index'],\n",
    "#               'date':dateString,\n",
    "#               'aerosol_optical_thickness':aot,\n",
    "#               'water_vapour':h2o,\n",
    "#               'ozone':o3})"
   ]
  },
  {
   "cell_type": "code",
   "execution_count": 15,
   "metadata": {},
   "outputs": [],
   "source": [
    "# define YOUR assetID \n",
    "# in my case it was something like this..\n",
    "# assetID = 'users/samsammurphy/shared/sentinel2/6S/ESRIN_'+dateString"
   ]
  },
  {
   "cell_type": "code",
   "execution_count": 16,
   "metadata": {},
   "outputs": [],
   "source": [
    "# # export\n",
    "# export = ee.batch.Export.image.toAsset(\\\n",
    "#     image=ref,\n",
    "#     description='sentinel2_atmcorr_export',\n",
    "#     assetId = assetID,\n",
    "#     region = region,\n",
    "#     scale = 30)\n",
    "\n",
    "# # uncomment to run the export\n",
    "# export.start() "
   ]
  }
 ],
 "metadata": {
  "anaconda-cloud": {},
  "kernelspec": {
   "display_name": "myenv",
   "language": "python",
   "name": "python3"
  },
  "language_info": {
   "codemirror_mode": {
    "name": "ipython",
    "version": 3
   },
   "file_extension": ".py",
   "mimetype": "text/x-python",
   "name": "python",
   "nbconvert_exporter": "python",
   "pygments_lexer": "ipython3",
   "version": "3.8.20"
  }
 },
 "nbformat": 4,
 "nbformat_minor": 2
}
